{
  "nbformat": 4,
  "nbformat_minor": 0,
  "metadata": {
    "colab": {
      "name": "yapay_sinir_aglari_sicaklik_ornek.ipynb",
      "provenance": [],
      "collapsed_sections": [],
      "authorship_tag": "ABX9TyNE2mqEokYQ4jM3A+DAyNNi",
      "include_colab_link": true
    },
    "kernelspec": {
      "name": "python3",
      "display_name": "Python 3"
    },
    "language_info": {
      "name": "python"
    }
  },
  "cells": [
    {
      "cell_type": "markdown",
      "metadata": {
        "id": "view-in-github",
        "colab_type": "text"
      },
      "source": [
        "<a href=\"https://colab.research.google.com/github/KevserAkbas/Deep_Learning/blob/main/yapay_sinir_aglari_sicaklik_ornek.ipynb\" target=\"_parent\"><img src=\"https://colab.research.google.com/assets/colab-badge.svg\" alt=\"Open In Colab\"/></a>"
      ]
    },
    {
      "cell_type": "code",
      "metadata": {
        "id": "tYAzbMv9v8-n"
      },
      "source": [
        "#kütüphaneler içeri aktarıldı\n",
        "from tensorflow import keras\n",
        "import numpy as np\n",
        "from keras.models import Sequential \n",
        "from keras.layers.core import Dense"
      ],
      "execution_count": 1,
      "outputs": []
    },
    {
      "cell_type": "code",
      "metadata": {
        "id": "jPLzXhcbwiMm"
      },
      "source": [
        "#supervised (gözetimli/denetimli) bir öğrenme yapılacağı için \n",
        "#celcius ve bunlara karşılık gelen fahrenheit değerlerini modelin öğrenmesi için numpy array lerine kaydedilidi\n",
        "celcius_degree    =np.array([-40, -10, 0, 8, 15, 22, 38])\n",
        "fahrenheit_degree =np.array([-40, 14, 32, 46, 59, 72, 100])"
      ],
      "execution_count": 2,
      "outputs": []
    },
    {
      "cell_type": "code",
      "metadata": {
        "id": "m44bzzRuxq3j"
      },
      "source": [
        "def TrainValidateModel():\n",
        "  #Sequential model oluşturuldu, yani ben ekleme yaptıkça bunu modelin sonuna ekle ve bütün bağları sen arada yap \n",
        "  model=keras.Sequential() \n",
        "  # 1 nöronu olan bir katman eklendi, çünkü lineer bağımlı bir problem çözmeye çalışıyorum\n",
        "  model.add(Dense(1)) \n",
        "  #compile, loss,optimizer fonksiyonlarının tanımlandığı yer\n",
        "  model.compile(loss='mean_squared_error',optimizer=keras.optimizers.Adam(0.1)) \n",
        "  #tarin datasetlerini ve onlara karşılık gelen label ların verildiği ve kaç tur eğitmek istediğim bir alan\n",
        "  model.fit(celcius_degree, fahrenheit_degree, epochs=500, verbose=False)\n",
        " \n",
        "\n",
        "\n",
        "  return model"
      ],
      "execution_count": 3,
      "outputs": []
    },
    {
      "cell_type": "code",
      "metadata": {
        "id": "u4zLJXoBy_7g"
      },
      "source": [
        "def ValidateModel(model, celcius_degree, fahrenheit_degree):\n",
        "  predictions=model.predict(celcius_degree)\n",
        "  for idx in range(len(predictions)):\n",
        "    print(f'[{celcius_degree[idx]}] C degree -> Prediction Fahrenheti Value - Actual Fahrenheti Value:[{prediction[idx]}] F - [{fahrenheit_degree[idx]} F]')"
      ],
      "execution_count": 4,
      "outputs": []
    },
    {
      "cell_type": "code",
      "metadata": {
        "id": "uBsDTu_m1wus"
      },
      "source": [
        "def PredictCelcius(model, celcius_degree):\n",
        "  return model.predict(np.array([celcius_degree]))"
      ],
      "execution_count": 5,
      "outputs": []
    },
    {
      "cell_type": "code",
      "metadata": {
        "id": "RIO0O0Hw2DrI"
      },
      "source": [
        "model = TrainValidateModel()"
      ],
      "execution_count": 6,
      "outputs": []
    },
    {
      "cell_type": "code",
      "metadata": {
        "colab": {
          "base_uri": "https://localhost:8080/"
        },
        "id": "3PXH7Mv22V5X",
        "outputId": "392ba834-f997-49d0-b12a-0a9a3d26e175"
      },
      "source": [
        "prediction_celcius= int(input('plesase enter the C value you want to predict of its F'))\n",
        "print(PredictCelcius(model, prediction_celcius))"
      ],
      "execution_count": 7,
      "outputs": [
        {
          "output_type": "stream",
          "name": "stdout",
          "text": [
            "plesase enter the C value you want to predict of its F24\n",
            "[[72.36754]]\n"
          ]
        }
      ]
    }
  ]
}